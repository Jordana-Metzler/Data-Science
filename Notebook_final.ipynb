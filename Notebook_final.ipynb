{
  "cells": [
    {
      "cell_type": "markdown",
      "metadata": {
        "id": "ykECY-iXUg9n"
      },
      "source": [
        "Projeto Data Science: *analisando os dados da Liga das Nações de vôlei feminino 2024*"
      ]
    },
    {
      "cell_type": "markdown",
      "metadata": {
        "id": "50riOVHsUzsf"
      },
      "source": [
        "## Introdução\n",
        "Neste projeto, analisamos os dados da Liga das Nações de Vôlei Feminino 2024 (VNL 2024) com o objetivo de identificar os principais fundamentos que contribuíram para o desempenho das seleções participantes e destacar as jogadoras mais eficientes da competição. Como atleta de vôlei, trago minha vivência esportiva para interpretar os dados e validar as conclusões.\n"
      ]
    },
    {
      "cell_type": "markdown",
      "metadata": {
        "id": "JprNSQIEVJJ4"
      },
      "source": [
        "## Objetivos\n",
        "- O que os dados revelam sobre o desempenho das seleções do pódio?\n",
        "- Quais foram as jogadoras mais eficientes?\n",
        "- Quais fundamentos (ataque, bloqueio, saque, defesa, recepção) se destacaram?\n",
        "- Como cada país performou nos fundamentos?\n",
        "- Como estão distribuídas as posições em quadra?\n",
        "- Visualizar os países participantes em um mapa interativo.\n"
      ]
    },
    {
      "cell_type": "code",
      "execution_count": null,
      "metadata": {
        "id": "GoH6wXP3Vshq"
      },
      "outputs": [
        {
          "ename": "",
          "evalue": "",
          "output_type": "error",
          "traceback": [
            "\u001b[1;31mA execução de células com 'Python 3.13.3' requer o pacote ipykernel.\n",
            "\u001b[1;31m<a href='command:jupyter.createPythonEnvAndSelectController'>Crie um ambiente Python</a> com os pacotes necessários.\n",
            "\u001b[1;31mOu instale 'ipykernel' usando o comando: 'c:/Users/jojom/AppData/Local/Programs/Python/Python313/python.exe -m pip install ipykernel -U --user --force-reinstall'"
          ]
        }
      ],
      "source": [
        "import pandas as pd\n",
        "pd.set_option('display.expand_frame_repr', False)\n",
        "import matplotlib.pyplot as plt\n",
        "import seaborn as sns\n",
        "import plotly.express as px\n",
        "import plotly.graph_objects as go\n",
        "import folium\n",
        "import ipywidgets as widgets\n",
        "from IPython.display import display, clear_output"
      ]
    },
    {
      "cell_type": "code",
      "execution_count": null,
      "metadata": {
        "colab": {
          "base_uri": "https://localhost:8080/",
          "height": 73
        },
        "id": "VjbJChrkM1Vx",
        "outputId": "8e088c12-c1e3-4bff-ac38-44bda7885f92"
      },
      "outputs": [],
      "source": [
        "# Fazer upload do arquivo CSV baixado do Kaggle (players.csv)\n",
        "from google.colab import files\n",
        "uploaded = files.upload()\n"
      ]
    },
    {
      "cell_type": "code",
      "execution_count": null,
      "metadata": {
        "colab": {
          "base_uri": "https://localhost:8080/",
          "height": 363
        },
        "id": "SkdY65edV3WN",
        "outputId": "fc3d4b86-0275-4437-d6d8-b7ea6a048406"
      },
      "outputs": [],
      "source": [
        "df = pd.read_csv(\"vnl.csv\")\n",
        "df.head(10)"
      ]
    },
    {
      "cell_type": "code",
      "execution_count": null,
      "metadata": {
        "colab": {
          "base_uri": "https://localhost:8080/",
          "height": 363
        },
        "id": "R8A5MqftV8R3",
        "outputId": "3125805e-1453-4eef-c6b0-2ba46b15fda8"
      },
      "outputs": [],
      "source": [
        "#Renomeando colunas para português\n",
        "df.rename(columns={\n",
        "    \"player\": \"jogadora\",\n",
        "    \"country\": \"pais\",\n",
        "    \"age\": \"idade\",\n",
        "    \"attack\": \"ataque\",\n",
        "    \"block\": \"bloqueio\",\n",
        "    \"serve\": \"saque\",\n",
        "    \"set\": \"levantamento\",\n",
        "    \"dig\": \"defesa\",\n",
        "    \"receive\": \"recepcao\",\n",
        "    \"position\": \"posicao\"\n",
        "}, inplace=True)\n",
        "df.head(10)"
      ]
    },
    {
      "cell_type": "code",
      "execution_count": null,
      "metadata": {
        "colab": {
          "base_uri": "https://localhost:8080/",
          "height": 363
        },
        "id": "KKspRspuXvz7",
        "outputId": "936be4a3-0c8e-44ba-deb6-f1e9252291da"
      },
      "outputs": [],
      "source": [
        "#Traduzindo valores da coluna de posição\n",
        "df[\"posicao\"] = df[\"posicao\"].replace({\n",
        "    \"OH\": \"Ponteira\",\n",
        "    \"OP\": \"Oposta\",\n",
        "    \"MB\": \"Central\",\n",
        "    \"S\": \"Levantadora\",\n",
        "    \"L\": \"Líbero\"\n",
        "})\n",
        "df.head(10)"
      ]
    },
    {
      "cell_type": "code",
      "execution_count": null,
      "metadata": {
        "id": "097EIuTFYKSN"
      },
      "outputs": [],
      "source": []
    },
    {
      "cell_type": "code",
      "execution_count": null,
      "metadata": {
        "colab": {
          "base_uri": "https://localhost:8080/",
          "height": 363
        },
        "id": "YfMwH7J7bqSt",
        "outputId": "cb9c3818-bce5-4564-89a2-818396cd4272"
      },
      "outputs": [],
      "source": [
        "#Criando colunas adicionais: pontos totais e jogadora_completa\n",
        "df[\"pontos_totais\"] = df[\"ataque\"] + df[\"bloqueio\"] + df[\"saque\"]\n",
        "df[\"jogadora_completa\"] = df[\"jogadora\"] + \" (\" + df[\"posicao\"] + \" - \" + df[\"pais\"] + \")\"\n",
        "df.head(10)"
      ]
    },
    {
      "cell_type": "code",
      "execution_count": null,
      "metadata": {
        "colab": {
          "base_uri": "https://localhost:8080/",
          "height": 551
        },
        "id": "gPYh5_T1ZJS_",
        "outputId": "33d7fc45-8a57-4ed7-e076-c2729090f970"
      },
      "outputs": [],
      "source": [
        "#Visão geral dos dados por seleção\n",
        "df_paises = df.groupby(\"pais\")[[\"ataque\", \"bloqueio\", \"saque\", \"defesa\", \"recepcao\", \"pontos_totais\"]].mean().sort_values(\"pontos_totais\", ascending=False).reset_index()\n",
        "df_paises"
      ]
    },
    {
      "cell_type": "code",
      "execution_count": null,
      "metadata": {
        "colab": {
          "base_uri": "https://localhost:8080/",
          "height": 865
        },
        "id": "vB6gmQuoxPHZ",
        "outputId": "874f8f3c-e659-42b7-9234-f9c7564531fb"
      },
      "outputs": [],
      "source": [
        "#Países participantes\n",
        "paises_coords = {\n",
        "    'Brasil': [-14.2350, -51.9253],\n",
        "    'Estados Unidos': [37.0902, -95.7129],\n",
        "    'China': [35.8617, 104.1954],\n",
        "    'Japão': [36.2048, 138.2529],\n",
        "    'Polônia': [51.9194, 19.1451],\n",
        "    'Turquia': [38.9637, 35.2433],\n",
        "    'Itália': [41.8719, 12.5674],\n",
        "    'Sérvia': [44.0165, 21.0059],\n",
        "    'Alemanha': [51.1657, 10.4515],\n",
        "    'Tailândia': [15.8700, 100.9925],\n",
        "    'Canadá': [56.1304, -106.3468],\n",
        "    'Países Baixos': [52.1326, 5.2913],\n",
        "    'Coreia do Sul': [35.9078, 127.7669],\n",
        "    'França': [46.6034, 1.8883],\n",
        "    'República Dominicana': [18.7357, -70.1627],\n",
        "    'Bulgária': [42.7339, 25.4858]\n",
        "}\n",
        "\n",
        "mapa = folium.Map(location=[20, 0], zoom_start=2)\n",
        "\n",
        "# Adicionar os marcadores dos países\n",
        "for pais, coords in paises_coords.items():\n",
        "    folium.Marker(\n",
        "        location=coords,\n",
        "        popup=pais,\n",
        "        tooltip=pais,\n",
        "        icon=folium.Icon(color='blue', icon='globe')\n",
        "    ).add_to(mapa)\n",
        "\n",
        "# Mostrar o mapa\n",
        "\n",
        "mapa"
      ]
    },
    {
      "cell_type": "code",
      "execution_count": null,
      "metadata": {
        "colab": {
          "base_uri": "https://localhost:8080/",
          "height": 542
        },
        "id": "uvDJ3laCaEOJ",
        "outputId": "6713a08b-00a2-4148-ecc3-0fe8b61ee88e"
      },
      "outputs": [],
      "source": [
        "#Gráfico de fundamentos por país\n",
        "df_paises_melted = df_paises.melt(id_vars=\"pais\", var_name=\"Fundamento\", value_name=\"Média\")\n",
        "fig = px.bar(df_paises_melted, x=\"pais\", y=\"Média\", color=\"Fundamento\",\n",
        "             title=\"Média de Pontuação por Fundamento - Por Seleção\",\n",
        "             barmode=\"group\", color_discrete_sequence=px.colors.qualitative.Pastel)\n",
        "fig.show()"
      ]
    },
    {
      "cell_type": "code",
      "execution_count": null,
      "metadata": {
        "colab": {
          "base_uri": "https://localhost:8080/",
          "height": 542
        },
        "id": "AxhZd5AoaNjc",
        "outputId": "72734965-3afb-459f-e767-4462a8f0ed0a"
      },
      "outputs": [],
      "source": [
        "focus = df[df[\"pais\"].isin([\"ITA\", \"JPN\", \"POL\", \"BRA\"])]\n",
        "focus_grouped = focus.groupby(\"pais\")[[\"ataque\", \"bloqueio\", \"saque\", \"defesa\", \"recepcao\"]].mean().reset_index()\n",
        "focus_melted = focus_grouped.melt(id_vars=\"pais\", var_name=\"Fundamento\", value_name=\"Média\")\n",
        "\n",
        "fig = px.bar(\n",
        "    focus_melted,\n",
        "    x=\"pais\",\n",
        "    y=\"Média\",\n",
        "    color=\"Fundamento\",\n",
        "    title=\"Comparativo dos Fundamentos: ITA x JPN x POL x BRA\",\n",
        "    barmode=\"group\",\n",
        "    text=\"Média\"\n",
        ")\n",
        "fig.update_traces(texttemplate='%{text:.2f}', textposition='outside')\n",
        "\n",
        "# Destacar o campeão (ITA) com cor diferente\n",
        "fig.update_traces(\n",
        "    selector=lambda trace: trace.name and \"ITA\" in trace.name,\n",
        "    marker_line_width=2,\n",
        "    marker_line_color=\"black\"\n",
        ")\n",
        "\n",
        "fig.show()\n"
      ]
    },
    {
      "cell_type": "code",
      "execution_count": null,
      "metadata": {
        "colab": {
          "base_uri": "https://localhost:8080/",
          "height": 542
        },
        "id": "BCxgFWh-bUnr",
        "outputId": "400ce5f8-68c3-4961-c1fa-79bfdb649c6e"
      },
      "outputs": [],
      "source": [
        "# top 10 jogadoras gerais\n",
        "df[\"jogadora_completa\"] = df[\"jogadora\"] + \" (\" + df[\"posicao\"] + \" - \" + df[\"pais\"] + \")\"\n",
        "top10_geral = df.sort_values(\"pontos_totais\", ascending=False).head(10)\n",
        "\n",
        "fig = px.bar(\n",
        "    top10_geral,\n",
        "    x=\"pontos_totais\",\n",
        "    y=\"jogadora_completa\",\n",
        "    color=\"pais\",\n",
        "    orientation='h',\n",
        "    title=\"Top 10 Jogadoras - Pontuação Total\",\n",
        "    text=\"pontos_totais\",\n",
        "    color_discrete_sequence=px.colors.qualitative.Pastel\n",
        ")\n",
        "fig.update_traces(texttemplate='%{text:.0f}', textposition='outside')\n",
        "fig.update_layout(yaxis_categoryorder='total ascending')\n",
        "fig.show()\n"
      ]
    },
    {
      "cell_type": "code",
      "execution_count": null,
      "metadata": {
        "colab": {
          "base_uri": "https://localhost:8080/",
          "height": 542
        },
        "id": "U751_qKAcLLZ",
        "outputId": "4bd831d6-449c-464a-e3c8-63a11853b390"
      },
      "outputs": [],
      "source": [
        "#Top 5 por ataque\n",
        "top_ataque = df.sort_values(\"ataque\", ascending=False).head(5)\n",
        "fig = px.bar(top_ataque, x=\"ataque\", y=\"jogadora_completa\", color=\"pais\", orientation='h',\n",
        "             title=\"Top 5 - Ataque\",\n",
        "             color_discrete_sequence=px.colors.qualitative.Pastel)\n",
        "fig.update_layout(yaxis_categoryorder='total ascending')\n",
        "fig.show()"
      ]
    },
    {
      "cell_type": "code",
      "execution_count": null,
      "metadata": {
        "colab": {
          "base_uri": "https://localhost:8080/",
          "height": 542
        },
        "id": "lstqSVwZcg12",
        "outputId": "78d39528-1c17-4541-8656-b6a8a4a2d311"
      },
      "outputs": [],
      "source": [
        "# Top 5 por Bloqueio\n",
        "top_bloqueio = df.sort_values(\"bloqueio\", ascending=False).head(5)\n",
        "fig = px.bar(top_bloqueio, x=\"bloqueio\", y=\"jogadora_completa\", color=\"pais\", orientation='h',\n",
        "             title=\"Top 5 - Bloqueio\",\n",
        "             color_discrete_sequence=px.colors.qualitative.Pastel)\n",
        "fig.update_layout(yaxis_categoryorder='total ascending')\n",
        "fig.show()"
      ]
    },
    {
      "cell_type": "code",
      "execution_count": null,
      "metadata": {
        "colab": {
          "base_uri": "https://localhost:8080/",
          "height": 542
        },
        "id": "XUTJ3iqLdrly",
        "outputId": "b8e0d93a-d96a-4473-b29c-fdd165e4b4e6"
      },
      "outputs": [],
      "source": [
        "# Top 5 por Saque\n",
        "top_saque = df.sort_values(\"saque\", ascending=False).head(5)\n",
        "fig = px.bar(top_saque, x=\"saque\", y=\"jogadora_completa\", color=\"pais\", orientation='h',\n",
        "             title=\"Top 5 - Saque\",\n",
        "             color_discrete_sequence=px.colors.qualitative.Pastel)\n",
        "fig.update_layout(yaxis_categoryorder='total ascending')\n",
        "fig.show()"
      ]
    },
    {
      "cell_type": "code",
      "execution_count": null,
      "metadata": {
        "colab": {
          "base_uri": "https://localhost:8080/",
          "height": 542
        },
        "id": "0RKN26Mpdyx7",
        "outputId": "b12cb18b-3af6-44b6-8c30-3bc4507ecd5e"
      },
      "outputs": [],
      "source": [
        "# Top 5 por Defesa\n",
        "top_defesa = df.sort_values(\"defesa\", ascending=False).head(5)\n",
        "fig = px.bar(top_defesa, x=\"defesa\", y=\"jogadora_completa\", color=\"pais\", orientation='h',\n",
        "             title=\"Top 5 - Defesa\",\n",
        "             color_discrete_sequence=px.colors.qualitative.Pastel)\n",
        "fig.update_layout(yaxis_categoryorder='total ascending')\n",
        "fig.show()"
      ]
    },
    {
      "cell_type": "code",
      "execution_count": null,
      "metadata": {
        "colab": {
          "base_uri": "https://localhost:8080/",
          "height": 542
        },
        "id": "yS8NC7ppeC8k",
        "outputId": "b61362b6-f9f2-4d9a-c7b2-538e262f7e9f"
      },
      "outputs": [],
      "source": [
        "#Top 5 por Recepção\n",
        "top_recepcao = df.sort_values(\"recepcao\", ascending=False).head(5)\n",
        "fig = px.bar(top_recepcao, x=\"recepcao\", y=\"jogadora_completa\", color=\"pais\", orientation='h',\n",
        "             title=\"Top 5 - Recepção\",\n",
        "             color_discrete_sequence=px.colors.qualitative.Pastel)\n",
        "fig.update_layout(yaxis_categoryorder='total ascending')\n",
        "fig.show()"
      ]
    },
    {
      "cell_type": "code",
      "execution_count": null,
      "metadata": {
        "colab": {
          "base_uri": "https://localhost:8080/",
          "height": 66,
          "referenced_widgets": [
            "816ee48eb64d470fa4d6e51c5beafdf2",
            "a0167c5941864aacadb1921de363a8fc",
            "6fd1a0a3c7cd466c89a7cfdae2de19fe",
            "9c6f8a3ccada4c29bb46ba735e0c5442",
            "f7a77d397bd44d42acec41e95c0725c7",
            "0f6154f55b9441f5ad9dbb7e4078a4ba",
            "c67f9ff170cd4406aea9508db7d9ce15"
          ]
        },
        "id": "9WCsWCOIgXXR",
        "outputId": "f34cbcf8-af75-43cd-ccb1-1b2122736d3e"
      },
      "outputs": [],
      "source": [
        "opcoes = sorted(df['posicao'].dropna().unique())\n",
        "\n",
        "@widgets.interact(posicao=widgets.Dropdown(options=opcoes, description='Posição:'))\n",
        "def mostrar_quantidade(posicao):\n",
        "    clear_output(wait=True)\n",
        "    print(f\"Quantidade de jogadoras na posição '{posicao}': {df[df['posicao'] == posicao].shape[0]}\")\n"
      ]
    },
    {
      "cell_type": "code",
      "execution_count": null,
      "metadata": {
        "colab": {
          "base_uri": "https://localhost:8080/",
          "height": 581
        },
        "id": "fe_t-MIvSH05",
        "outputId": "23ea069d-2f6f-4c24-ba00-b50cc7eb34b4"
      },
      "outputs": [],
      "source": [
        "import matplotlib.pyplot as plt\n",
        "import seaborn as sns\n",
        "from sklearn.linear_model import LinearRegression\n",
        "\n",
        "# Remover valores ausentes nas colunas usadas\n",
        "df_reg = df[['idade', 'pontos_totais']].dropna()\n",
        "\n",
        "# Separar variáveis independentes e dependentes\n",
        "X = df_reg[['idade']]\n",
        "y = df_reg['pontos_totais']\n",
        "\n",
        "# Criar e treinar o modelo\n",
        "modelo = LinearRegression()\n",
        "modelo.fit(X, y)\n",
        "\n",
        "# Prever valores\n",
        "y_pred = modelo.predict(X)\n",
        "\n",
        "# Plotar gráfico\n",
        "plt.figure(figsize=(10, 6))\n",
        "sns.scatterplot(x='idade', y='pontos_totais', data=df_reg, label='Jogadoras')\n",
        "plt.plot(df_reg['idade'], y_pred, color='red', label='Regressão Linear')\n",
        "plt.xlabel(\"Idade\")\n",
        "plt.ylabel(\"Pontos Totais\")\n",
        "plt.title(\"Desempenho por Idade (Regressão Linear)\")\n",
        "plt.legend()\n",
        "plt.grid(True)\n",
        "plt.show()\n",
        "\n",
        "# Exibir equação da reta\n",
        "print(f\"Equação: Pontos Totais = {modelo.coef_[0]:.2f} * Idade + {modelo.intercept_:.2f}\")\n"
      ]
    },
    {
      "cell_type": "markdown",
      "metadata": {
        "id": "V4bCim-xU1SU"
      },
      "source": [
        "### 📌 Análise: Relação entre Idade e Desempenho (Pontos Totais)\n",
        "\n",
        "Com base na regressão linear aplicada aos dados da Liga das Nações Feminina de Vôlei 2024, obteve-se a seguinte equação:\n",
        "\n",
        "Pontos Totais = -0.06 × Idade + 5.88\n",
        "\n",
        "\n",
        "O coeficiente angular negativo indica uma leve tendência de queda no desempenho à medida que a idade aumenta. No entanto, essa influência é extremamente pequena — cerca de 0,06 pontos a menos por ano — o que a torna estatisticamente irrelevante para fins práticos. Isso sugere que a idade, por si só, **não é um fator determinante no desempenho ofensivo** das atletas nesta competição. Jogadoras jovens e experientes apresentam desempenhos semelhantes em termos de pontuação, indicando que **outros fatores**, como **posição, tempo em quadra, condicionamento físico e papel tático**, exercem maior influência nos resultados individuais.\n"
      ]
    },
    {
      "cell_type": "markdown",
      "metadata": {
        "id": "wXZkpA6fj5Y7"
      },
      "source": [
        "## 📊 Análise: Os dados confirmam o pódio da VNL 2024?\n",
        "\n",
        "Com base nas estatísticas da Liga das Nações de Vôlei Feminino 2024, os dados confirmam o merecido pódio composto por **Itália**, **Japão** e **Polônia**. A **Itália** apresentou o desempenho mais equilibrado em todos os fundamentos, enquanto o **Japão** liderou com folga os fundamentos defensivos, que caracterizam o estilo de jogo, e a **Polônia**, por sua vez, teve um desempenho sólido especialmente nos bloqueios.\n",
        "\n",
        "Já a **seleção brasileira**, apesar de figurar entre as melhores em **ataques** e **saques**, teve um baixo aproveitamento nos **fundamentos defensivos** o que comprometeu seu rendimento, resultando na **4ª colocação**.\n",
        "\n",
        "Nos destaques individuais, **Egonu (ITA)** lidera em pontos, **Inoue** e **Kojima (JPN)** se sobressaem na recepção e defesa, e **Korneluk (POL)** no bloqueio. A análise mostra que **consistência nos fundamentos** foi o diferencial decisivo para o sucesso das equipes no torneio.\n"
      ]
    },
    {
      "cell_type": "markdown",
      "metadata": {
        "id": "qt8b4NChvbuU"
      },
      "source": [
        "## 🏅 Comparando a Seleção Ideal com a Seleção Oficial da VNL 2024\n",
        "\n",
        "Além da análise por país e fundamentos, também é possível observar os destaques individuais da competição. A Federação Internacional de Voleibol (FIVB) seleciona, ao final do torneio, uma **seleção do campeonato**, composta pelas atletas que mais se destacaram tecnicamente e taticamente em suas posições.\n",
        "\n",
        "Neste projeto, com base nos dados estatísticos da VNL 2024, construímos uma **seleção ideal baseada em desempenho quantitativo**.\n",
        "\n",
        "A seguir, comparamos essa seleção ideal com a **seleção oficial divulgada pela FIVB**, refletindo sobre as semelhanças e diferenças entre desempenho numérico e impacto real dentro da competição."
      ]
    },
    {
      "cell_type": "code",
      "execution_count": null,
      "metadata": {
        "colab": {
          "base_uri": "https://localhost:8080/",
          "height": 397
        },
        "id": "P9lt4EpIv-Bk",
        "outputId": "8853ae7f-37c7-4d7e-94be-59ea730970d5"
      },
      "outputs": [],
      "source": [
        "import pandas as pd\n",
        "import plotly.graph_objects as go\n",
        "\n",
        "dados = {\n",
        "    \"Posição\": [\"Levantadora\", \"Oposta\", \"Ponteira \", \"Ponteira \", \"Central \", \"Central \", \"Líbero\"],\n",
        "    \"Ideal\": [\n",
        "        \"Alessia Orro (ITA)\", \"Paola Egonu (ITA)\", \"Gabi Guimarães (BRA)\",\n",
        "        \"Arisa Inoue (JPN)\", \"Agnieszka Korneluk (POL)\", \"Sarah Fahr (ITA)\",\n",
        "        \"Manami Kojima (JPN)\"\n",
        "    ],\n",
        "    \"Oficial\": [\n",
        "        \"Alessia Orro (ITA)\", \"Paola Egonu (ITA)\", \"Myriam Sylla (ITA)\",\n",
        "        \"Sarina Koga (JPN)\", \"Sarah Fahr (ITA)\", \"Agnieszka Korneluk (POL)\",\n",
        "        \"Manami Kojima (JPN)\"\n",
        "    ]\n",
        "}\n",
        "\n",
        "df = pd.DataFrame(dados)\n",
        "\n",
        "# Gerar lista de cores para cada célula (lavender se iguais, pink se diferentes)\n",
        "cores = [\n",
        "    ['lavender'] * len(df)] + [\n",
        "    ['lavender' if i == j else 'mistyrose' for i, j in zip(df['Ideal'], df['Oficial'])]\n",
        "]\n",
        "\n",
        "# Criar tabela\n",
        "fig = go.Figure(data=[go.Table(\n",
        "    header=dict(values=list(df.columns),\n",
        "                fill_color='paleturquoise',\n",
        "                align='center'),\n",
        "    cells=dict(values=[df[col] for col in df.columns],\n",
        "               fill_color=cores,\n",
        "               align='center'))\n",
        "])\n",
        "\n",
        "fig.update_layout(\n",
        "    title=\"Comparativo: Seleção Ideal x Seleção Oficial da VNL 2024\",\n",
        "    height=380,\n",
        "    margin=dict(l=20, r=20, t=50, b=100)\n",
        ")\n",
        "fig.show()\n"
      ]
    },
    {
      "cell_type": "markdown",
      "metadata": {
        "id": "JkIZAvC5wJuQ"
      },
      "source": [
        "### 🧠 Conclusão da Comparação\n",
        "\n",
        "A análise mostra que, em grande parte, a **seleção oficial da VNL 2024 coincide com os dados** estatísticos. Nomes como **Paola Egonu**, **Alessia Orro**, **Sarah Fahr** e **Agnieszka Korneluk** aparecem em ambas as seleções, confirmando seus desempenhos de destaque.\n",
        "\n",
        "As principais **diferenças** aparecem nas escolhas de ponteiras: enquanto os dados apontam para **Gabi Guimarães (BRA)** e **Arisa Inoue (JPN)** como mais eficientes em pontuação e regularidade, a seleção oficial optou por **Myriam Sylla (ITA)** e **Sarina Koga (JPN)**.\n",
        "\n",
        "Essa comparação reforça que **a performance estatística é essencial**, mas **a escolha da seleção oficial também leva em conta aspectos subjetivos** e qualitativos, como equilíbrio tático, protagonismo em jogos decisivos e contribuição coletiva para o sucesso da equipe.\n"
      ]
    }
  ],
  "metadata": {
    "colab": {
      "provenance": []
    },
    "kernelspec": {
      "display_name": "Python 3",
      "name": "python3"
    },
    "language_info": {
      "name": "python",
      "version": "3.13.3"
    },
    "widgets": {
      "application/vnd.jupyter.widget-state+json": {
        "0f6154f55b9441f5ad9dbb7e4078a4ba": {
          "model_module": "@jupyter-widgets/controls",
          "model_module_version": "1.5.0",
          "model_name": "DescriptionStyleModel",
          "state": {
            "_model_module": "@jupyter-widgets/controls",
            "_model_module_version": "1.5.0",
            "_model_name": "DescriptionStyleModel",
            "_view_count": null,
            "_view_module": "@jupyter-widgets/base",
            "_view_module_version": "1.2.0",
            "_view_name": "StyleView",
            "description_width": ""
          }
        },
        "6fd1a0a3c7cd466c89a7cfdae2de19fe": {
          "model_module": "@jupyter-widgets/output",
          "model_module_version": "1.0.0",
          "model_name": "OutputModel",
          "state": {
            "_dom_classes": [],
            "_model_module": "@jupyter-widgets/output",
            "_model_module_version": "1.0.0",
            "_model_name": "OutputModel",
            "_view_count": null,
            "_view_module": "@jupyter-widgets/output",
            "_view_module_version": "1.0.0",
            "_view_name": "OutputView",
            "layout": "IPY_MODEL_c67f9ff170cd4406aea9508db7d9ce15",
            "msg_id": "",
            "outputs": [
              {
                "name": "stdout",
                "output_type": "stream",
                "text": [
                  "Quantidade de jogadoras na posição 'Central': 67\n"
                ]
              }
            ]
          }
        },
        "816ee48eb64d470fa4d6e51c5beafdf2": {
          "model_module": "@jupyter-widgets/controls",
          "model_module_version": "1.5.0",
          "model_name": "VBoxModel",
          "state": {
            "_dom_classes": [
              "widget-interact"
            ],
            "_model_module": "@jupyter-widgets/controls",
            "_model_module_version": "1.5.0",
            "_model_name": "VBoxModel",
            "_view_count": null,
            "_view_module": "@jupyter-widgets/controls",
            "_view_module_version": "1.5.0",
            "_view_name": "VBoxView",
            "box_style": "",
            "children": [
              "IPY_MODEL_a0167c5941864aacadb1921de363a8fc",
              "IPY_MODEL_6fd1a0a3c7cd466c89a7cfdae2de19fe"
            ],
            "layout": "IPY_MODEL_9c6f8a3ccada4c29bb46ba735e0c5442"
          }
        },
        "9c6f8a3ccada4c29bb46ba735e0c5442": {
          "model_module": "@jupyter-widgets/base",
          "model_module_version": "1.2.0",
          "model_name": "LayoutModel",
          "state": {
            "_model_module": "@jupyter-widgets/base",
            "_model_module_version": "1.2.0",
            "_model_name": "LayoutModel",
            "_view_count": null,
            "_view_module": "@jupyter-widgets/base",
            "_view_module_version": "1.2.0",
            "_view_name": "LayoutView",
            "align_content": null,
            "align_items": null,
            "align_self": null,
            "border": null,
            "bottom": null,
            "display": null,
            "flex": null,
            "flex_flow": null,
            "grid_area": null,
            "grid_auto_columns": null,
            "grid_auto_flow": null,
            "grid_auto_rows": null,
            "grid_column": null,
            "grid_gap": null,
            "grid_row": null,
            "grid_template_areas": null,
            "grid_template_columns": null,
            "grid_template_rows": null,
            "height": null,
            "justify_content": null,
            "justify_items": null,
            "left": null,
            "margin": null,
            "max_height": null,
            "max_width": null,
            "min_height": null,
            "min_width": null,
            "object_fit": null,
            "object_position": null,
            "order": null,
            "overflow": null,
            "overflow_x": null,
            "overflow_y": null,
            "padding": null,
            "right": null,
            "top": null,
            "visibility": null,
            "width": null
          }
        },
        "a0167c5941864aacadb1921de363a8fc": {
          "model_module": "@jupyter-widgets/controls",
          "model_module_version": "1.5.0",
          "model_name": "DropdownModel",
          "state": {
            "_dom_classes": [],
            "_model_module": "@jupyter-widgets/controls",
            "_model_module_version": "1.5.0",
            "_model_name": "DropdownModel",
            "_options_labels": [
              "Central",
              "Levantadora",
              "Líbero",
              "Oposta",
              "Ponteira"
            ],
            "_view_count": null,
            "_view_module": "@jupyter-widgets/controls",
            "_view_module_version": "1.5.0",
            "_view_name": "DropdownView",
            "description": "Posição:",
            "description_tooltip": null,
            "disabled": false,
            "index": 0,
            "layout": "IPY_MODEL_f7a77d397bd44d42acec41e95c0725c7",
            "style": "IPY_MODEL_0f6154f55b9441f5ad9dbb7e4078a4ba"
          }
        },
        "c67f9ff170cd4406aea9508db7d9ce15": {
          "model_module": "@jupyter-widgets/base",
          "model_module_version": "1.2.0",
          "model_name": "LayoutModel",
          "state": {
            "_model_module": "@jupyter-widgets/base",
            "_model_module_version": "1.2.0",
            "_model_name": "LayoutModel",
            "_view_count": null,
            "_view_module": "@jupyter-widgets/base",
            "_view_module_version": "1.2.0",
            "_view_name": "LayoutView",
            "align_content": null,
            "align_items": null,
            "align_self": null,
            "border": null,
            "bottom": null,
            "display": null,
            "flex": null,
            "flex_flow": null,
            "grid_area": null,
            "grid_auto_columns": null,
            "grid_auto_flow": null,
            "grid_auto_rows": null,
            "grid_column": null,
            "grid_gap": null,
            "grid_row": null,
            "grid_template_areas": null,
            "grid_template_columns": null,
            "grid_template_rows": null,
            "height": null,
            "justify_content": null,
            "justify_items": null,
            "left": null,
            "margin": null,
            "max_height": null,
            "max_width": null,
            "min_height": null,
            "min_width": null,
            "object_fit": null,
            "object_position": null,
            "order": null,
            "overflow": null,
            "overflow_x": null,
            "overflow_y": null,
            "padding": null,
            "right": null,
            "top": null,
            "visibility": null,
            "width": null
          }
        },
        "f7a77d397bd44d42acec41e95c0725c7": {
          "model_module": "@jupyter-widgets/base",
          "model_module_version": "1.2.0",
          "model_name": "LayoutModel",
          "state": {
            "_model_module": "@jupyter-widgets/base",
            "_model_module_version": "1.2.0",
            "_model_name": "LayoutModel",
            "_view_count": null,
            "_view_module": "@jupyter-widgets/base",
            "_view_module_version": "1.2.0",
            "_view_name": "LayoutView",
            "align_content": null,
            "align_items": null,
            "align_self": null,
            "border": null,
            "bottom": null,
            "display": null,
            "flex": null,
            "flex_flow": null,
            "grid_area": null,
            "grid_auto_columns": null,
            "grid_auto_flow": null,
            "grid_auto_rows": null,
            "grid_column": null,
            "grid_gap": null,
            "grid_row": null,
            "grid_template_areas": null,
            "grid_template_columns": null,
            "grid_template_rows": null,
            "height": null,
            "justify_content": null,
            "justify_items": null,
            "left": null,
            "margin": null,
            "max_height": null,
            "max_width": null,
            "min_height": null,
            "min_width": null,
            "object_fit": null,
            "object_position": null,
            "order": null,
            "overflow": null,
            "overflow_x": null,
            "overflow_y": null,
            "padding": null,
            "right": null,
            "top": null,
            "visibility": null,
            "width": null
          }
        }
      }
    }
  },
  "nbformat": 4,
  "nbformat_minor": 0
}
